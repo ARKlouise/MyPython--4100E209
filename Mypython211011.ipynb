{
  "nbformat": 4,
  "nbformat_minor": 0,
  "metadata": {
    "colab": {
      "name": "Mypython211011.ipynb",
      "provenance": [],
      "collapsed_sections": [],
      "authorship_tag": "ABX9TyMD835EPlvzUjaHU0g/SX1J",
      "include_colab_link": true
    },
    "kernelspec": {
      "name": "python3",
      "display_name": "Python 3"
    },
    "language_info": {
      "name": "python"
    }
  },
  "cells": [
    {
      "cell_type": "markdown",
      "metadata": {
        "id": "view-in-github",
        "colab_type": "text"
      },
      "source": [
        "<a href=\"https://colab.research.google.com/github/ARKlouise/MyPython--4100E209/blob/main/Mypython211011.ipynb\" target=\"_parent\"><img src=\"https://colab.research.google.com/assets/colab-badge.svg\" alt=\"Open In Colab\"/></a>"
      ]
    },
    {
      "cell_type": "markdown",
      "metadata": {
        "id": "rHtRL5HYOgNC"
      },
      "source": [
        "**Python Data Type**\n",
        "\n",
        "Date: 2021/10/11\n",
        "\n",
        "Name: Clark Louise S. Delos Santos\n",
        "\n",
        "克拉克 - 4100E209\n",
        "\n"
      ]
    },
    {
      "cell_type": "markdown",
      "metadata": {
        "id": "zLtcxuF0Qm-E"
      },
      "source": [
        "**Arithmetic Operators**"
      ]
    },
    {
      "cell_type": "code",
      "metadata": {
        "colab": {
          "base_uri": "https://localhost:8080/"
        },
        "id": "usVj0S-OP5CO",
        "outputId": "aceaf1c7-f32a-40a8-96b5-f6ccb3822d4a"
      },
      "source": [
        "a = 30 / 5\n",
        "a"
      ],
      "execution_count": 3,
      "outputs": [
        {
          "output_type": "execute_result",
          "data": {
            "text/plain": [
              "6.0"
            ]
          },
          "metadata": {},
          "execution_count": 3
        }
      ]
    },
    {
      "cell_type": "code",
      "metadata": {
        "colab": {
          "base_uri": "https://localhost:8080/"
        },
        "id": "_Px59SyPQBlr",
        "outputId": "78596ddd-0dd3-42a3-cae4-7e7bbaea3df2"
      },
      "source": [
        "b = 25 - 10\n",
        "b"
      ],
      "execution_count": 4,
      "outputs": [
        {
          "output_type": "execute_result",
          "data": {
            "text/plain": [
              "15"
            ]
          },
          "metadata": {},
          "execution_count": 4
        }
      ]
    },
    {
      "cell_type": "code",
      "metadata": {
        "colab": {
          "base_uri": "https://localhost:8080/"
        },
        "id": "btUaaWxZQFGX",
        "outputId": "a42274a5-bf43-4810-f2bd-9d3598993f62"
      },
      "source": [
        "c = 30 * 5\n",
        "c"
      ],
      "execution_count": 5,
      "outputs": [
        {
          "output_type": "execute_result",
          "data": {
            "text/plain": [
              "150"
            ]
          },
          "metadata": {},
          "execution_count": 5
        }
      ]
    },
    {
      "cell_type": "code",
      "metadata": {
        "colab": {
          "base_uri": "https://localhost:8080/"
        },
        "id": "8obnJhoWQE5z",
        "outputId": "1ac98661-ddb7-41bc-9dde-91532d33adbf"
      },
      "source": [
        "d = 15 + 5 \n",
        "d"
      ],
      "execution_count": 6,
      "outputs": [
        {
          "output_type": "execute_result",
          "data": {
            "text/plain": [
              "20"
            ]
          },
          "metadata": {},
          "execution_count": 6
        }
      ]
    },
    {
      "cell_type": "markdown",
      "metadata": {
        "id": "KBDbV4NWQ64w"
      },
      "source": [
        "**Logical Operator**"
      ]
    },
    {
      "cell_type": "code",
      "metadata": {
        "id": "gFkmOmaxRAPv"
      },
      "source": [
        "x = 2\n",
        "print (x < 5  or x > 25)"
      ],
      "execution_count": null,
      "outputs": []
    },
    {
      "cell_type": "markdown",
      "metadata": {
        "id": "0v5M8GK3RSOj"
      },
      "source": [
        "x = 2\n",
        "\n",
        "(x < 5) FALSE |  (x > 25) FALSE \n",
        "\n",
        "[True] and [True] ==> True\n",
        "\n",
        "[True] and [False] ==> False \n",
        "\n",
        "[False] and [True] ==> False\n",
        "\n",
        "[False] and [False] ==> False"
      ]
    },
    {
      "cell_type": "code",
      "metadata": {
        "id": "kQcRkjwoRT5K"
      },
      "source": [
        "x = 7\n",
        "print (x < 4 or x > 8)"
      ],
      "execution_count": null,
      "outputs": []
    },
    {
      "cell_type": "markdown",
      "metadata": {
        "id": "0gRA65-8UxVP"
      },
      "source": [
        "x = 7\n",
        "(x < 4) FALSE | (x > 8) FALSE\n",
        "\n",
        "[True] or [True] ==> True\n",
        "\n",
        "[True] or [False] ==> True\n",
        "\n",
        "[False] or [True] ==> True\n",
        "\n",
        "[False] or [False] ==> False"
      ]
    },
    {
      "cell_type": "markdown",
      "metadata": {
        "id": "9NCA4nUkRqhp"
      },
      "source": [
        "**Built-In Funtions (bin Function)**"
      ]
    },
    {
      "cell_type": "code",
      "metadata": {
        "id": "NDCw32UCR1o5"
      },
      "source": [
        "bin(5)"
      ],
      "execution_count": null,
      "outputs": []
    },
    {
      "cell_type": "code",
      "metadata": {
        "id": "TH0gvXWGR8UM"
      },
      "source": [
        "int(3)"
      ],
      "execution_count": null,
      "outputs": []
    },
    {
      "cell_type": "markdown",
      "metadata": {
        "id": "k9jXFxV4R-6O"
      },
      "source": [
        "**String Data Type**"
      ]
    },
    {
      "cell_type": "code",
      "metadata": {
        "id": "OYKvc-7zSHBd"
      },
      "source": [
        "str3 = 'allow embedded \"double\" '\n",
        "str3"
      ],
      "execution_count": null,
      "outputs": []
    },
    {
      "cell_type": "markdown",
      "metadata": {
        "id": "ystB1FuDSQul"
      },
      "source": [
        "**Operations on Strings**"
      ]
    },
    {
      "cell_type": "code",
      "metadata": {
        "colab": {
          "base_uri": "https://localhost:8080/"
        },
        "id": "QaG6anpGSNxM",
        "outputId": "b60c0758-ec70-485f-9006-6ba40544981b"
      },
      "source": [
        "movie1 = 'Avengers'\n",
        "\n",
        "print(\"movie1[0]: \", movie1[1])"
      ],
      "execution_count": 9,
      "outputs": [
        {
          "output_type": "stream",
          "name": "stdout",
          "text": [
            "movie1[0]:  v\n"
          ]
        }
      ]
    },
    {
      "cell_type": "markdown",
      "metadata": {
        "id": "bMzqndKNSgRG"
      },
      "source": [
        "\n",
        "movie1 = 'Avengers'\n",
        "\n",
        "movie1[0] ==> Super\n",
        "\n",
        "movie1[1] ==> Hero\n",
        "\n",
        "and so on"
      ]
    },
    {
      "cell_type": "markdown",
      "metadata": {
        "id": "oAnpL1xNSlaG"
      },
      "source": [
        "**Slice Operations**"
      ]
    },
    {
      "cell_type": "code",
      "metadata": {
        "colab": {
          "base_uri": "https://localhost:8080/"
        },
        "id": "MPYxWbQKSuE9",
        "outputId": "1ac892d0-a4ed-4ef1-d310-8803e2639c0a"
      },
      "source": [
        "b = \"Hello Santa\"\n",
        "print(b)\n"
      ],
      "execution_count": 10,
      "outputs": [
        {
          "output_type": "stream",
          "name": "stdout",
          "text": [
            "Hello Santa\n"
          ]
        }
      ]
    },
    {
      "cell_type": "code",
      "metadata": {
        "colab": {
          "base_uri": "https://localhost:8080/"
        },
        "id": "6EL1fviJS32Z",
        "outputId": "d3080189-3745-4f46-c488-e2f231fdf064"
      },
      "source": [
        "b = \"Hello Santa\"\n",
        "print(b)"
      ],
      "execution_count": 11,
      "outputs": [
        {
          "output_type": "stream",
          "name": "stdout",
          "text": [
            "Hello Santa\n"
          ]
        }
      ]
    },
    {
      "cell_type": "code",
      "metadata": {
        "colab": {
          "base_uri": "https://localhost:8080/"
        },
        "id": "ztW_PrMuTEdl",
        "outputId": "dde048f4-7acd-438c-f225-a601fccf40dd"
      },
      "source": [
        "b = \"Hello Santa\"\n",
        "print(b)"
      ],
      "execution_count": 12,
      "outputs": [
        {
          "output_type": "stream",
          "name": "stdout",
          "text": [
            "Hello Santa\n"
          ]
        }
      ]
    },
    {
      "cell_type": "code",
      "metadata": {
        "colab": {
          "base_uri": "https://localhost:8080/"
        },
        "id": "c_4nC-nkTFX2",
        "outputId": "80c72819-b874-4d28-b9b2-dc4312fd79db"
      },
      "source": [
        "b = \"Hello Santa\"\n",
        "print(b)"
      ],
      "execution_count": 13,
      "outputs": [
        {
          "output_type": "stream",
          "name": "stdout",
          "text": [
            "Hello Santa\n"
          ]
        }
      ]
    },
    {
      "cell_type": "markdown",
      "metadata": {
        "id": "yLb9wJcETM-i"
      },
      "source": [
        "**Python Capitalize() Method**"
      ]
    },
    {
      "cell_type": "code",
      "metadata": {
        "colab": {
          "base_uri": "https://localhost:8080/"
        },
        "id": "cXv50ig9TFU9",
        "outputId": "cb47979a-1e9f-4be2-9def-388ec9421032"
      },
      "source": [
        "x = 'Hello and welcome to my world Santa'\n",
        "y = x\n",
        "print(x)\n"
      ],
      "execution_count": 18,
      "outputs": [
        {
          "output_type": "stream",
          "name": "stdout",
          "text": [
            "Hello and welcome to my world Santa\n"
          ]
        }
      ]
    },
    {
      "cell_type": "code",
      "metadata": {
        "colab": {
          "base_uri": "https://localhost:8080/"
        },
        "id": "zq8600VGdTIr",
        "outputId": "8021f913-25eb-461a-881e-c573b29b36c8"
      },
      "source": [
        "dog = \"arf\"\n",
        "x = (dog)\n",
        "print (x)"
      ],
      "execution_count": 26,
      "outputs": [
        {
          "output_type": "stream",
          "name": "stdout",
          "text": [
            "arf\n"
          ]
        }
      ]
    },
    {
      "cell_type": "markdown",
      "metadata": {
        "id": "7s01ATOoTbTE"
      },
      "source": [
        "**Python join() Method**"
      ]
    },
    {
      "cell_type": "code",
      "metadata": {
        "colab": {
          "base_uri": "https://localhost:8080/"
        },
        "id": "5orGaURUToZ7",
        "outputId": "a3834f8d-7ed1-445a-f0d7-eab5a4a00ba8"
      },
      "source": [
        "character = (\"Iron Man\" , \"Falcon\" , \"Spiderman\" , \"Black Panther\")\n",
        "x = \"-\".join(character)\n",
        "print (x)"
      ],
      "execution_count": 25,
      "outputs": [
        {
          "output_type": "stream",
          "name": "stdout",
          "text": [
            "Iron Man-Falcon-Spiderman-Black Panther\n"
          ]
        }
      ]
    },
    {
      "cell_type": "markdown",
      "metadata": {
        "id": "yvPHho6sTz-6"
      },
      "source": [
        "**Python ljust() Method**"
      ]
    },
    {
      "cell_type": "code",
      "metadata": {
        "id": "iX5pHrsGT2TG"
      },
      "source": [
        "dog = \"arf\"\n",
        "x = (dog)\n",
        "print (x)"
      ],
      "execution_count": null,
      "outputs": []
    },
    {
      "cell_type": "markdown",
      "metadata": {
        "id": "rqgDDjEGUQVz"
      },
      "source": [
        "list1 = [14,17,8,7,11,13,9]\n",
        "list1 [3]"
      ]
    },
    {
      "cell_type": "markdown",
      "metadata": {
        "id": "SN1guPaoWcdo"
      },
      "source": [
        "list1 = [14,17,8,7,11,13,9]\n",
        "\n",
        "index of list\n",
        "\n",
        "list1 [0] ==> 14\n",
        "\n",
        "list1 [1] ==> 17\n",
        "\n",
        "and so on..."
      ]
    },
    {
      "cell_type": "markdown",
      "metadata": {
        "id": "RB2sj7MtW81n"
      },
      "source": [
        "**List Slice Operation**"
      ]
    },
    {
      "cell_type": "code",
      "metadata": {
        "colab": {
          "base_uri": "https://localhost:8080/"
        },
        "id": "lajRISFHWwdd",
        "outputId": "6dfbd2ad-7343-42f4-ebfe-82c3512b167b"
      },
      "source": [
        "list1 = [14,17,8,7,11,13,9]\n",
        "list1 [2:5]"
      ],
      "execution_count": 27,
      "outputs": [
        {
          "output_type": "execute_result",
          "data": {
            "text/plain": [
              "[8, 7, 11]"
            ]
          },
          "metadata": {},
          "execution_count": 27
        }
      ]
    },
    {
      "cell_type": "markdown",
      "metadata": {
        "id": "aOePwsASXG5k"
      },
      "source": [
        "**List Built-in Function**"
      ]
    },
    {
      "cell_type": "code",
      "metadata": {
        "id": "J939Is6JXxl-"
      },
      "source": [
        "max(list1)"
      ],
      "execution_count": null,
      "outputs": []
    },
    {
      "cell_type": "code",
      "metadata": {
        "id": "GoeJBTYPX1q_"
      },
      "source": [
        "len(list1)"
      ],
      "execution_count": null,
      "outputs": []
    },
    {
      "cell_type": "markdown",
      "metadata": {
        "id": "IadXLSb_YB6b"
      },
      "source": [
        "**DICT Data Type**"
      ]
    },
    {
      "cell_type": "markdown",
      "metadata": {
        "id": "ZI8RJYxZYKpA"
      },
      "source": [
        "mydict = {'Name': 'Iron man', 'age': '45', 'House': 'America'}\n",
        "\n",
        "==> 3 key-value pairs\n",
        "\n",
        "'Name': 'Iron man'\n",
        "\n",
        "'Age': '45'\n",
        "\n",
        "'House': 'America'\n",
        "\n",
        "separated by: ,\n",
        "\n",
        "many key-value pairs"
      ]
    },
    {
      "cell_type": "code",
      "metadata": {
        "colab": {
          "base_uri": "https://localhost:8080/"
        },
        "id": "mxUSn-iBYBGZ",
        "outputId": "5c464023-6e83-41da-a53e-b6be7cd54414"
      },
      "source": [
        "mydict = {'Name': 'Iron man', 'Age': '45', 'House': 'America'}\n",
        "\n",
        "print (mydict)"
      ],
      "execution_count": 28,
      "outputs": [
        {
          "output_type": "stream",
          "name": "stdout",
          "text": [
            "{'Name': 'Iron man', 'Age': '45', 'House': 'America'}\n"
          ]
        }
      ]
    },
    {
      "cell_type": "code",
      "metadata": {
        "colab": {
          "base_uri": "https://localhost:8080/"
        },
        "id": "DJ1x9QGkYrry",
        "outputId": "1e84c4b6-ebc0-4f6a-f93a-657ebc029d59"
      },
      "source": [
        "print (\"mydict['House']: \", mydict['House']) "
      ],
      "execution_count": 29,
      "outputs": [
        {
          "output_type": "stream",
          "name": "stdout",
          "text": [
            "mydict['House']:  America\n"
          ]
        }
      ]
    }
  ]
}
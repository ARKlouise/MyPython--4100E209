{
  "nbformat": 4,
  "nbformat_minor": 0,
  "metadata": {
    "colab": {
      "name": "Oct/20/2021.ipynb",
      "provenance": [],
      "collapsed_sections": [],
      "authorship_tag": "ABX9TyNrYkqnl9sZDzg3EB0Hy9nS",
      "include_colab_link": true
    },
    "kernelspec": {
      "name": "python3",
      "display_name": "Python 3"
    },
    "language_info": {
      "name": "python"
    }
  },
  "cells": [
    {
      "cell_type": "markdown",
      "metadata": {
        "id": "view-in-github",
        "colab_type": "text"
      },
      "source": [
        "<a href=\"https://colab.research.google.com/github/ARKlouise/MyPython--4100E209/blob/main/Oct_20_2021.ipynb\" target=\"_parent\"><img src=\"https://colab.research.google.com/assets/colab-badge.svg\" alt=\"Open In Colab\"/></a>"
      ]
    },
    {
      "cell_type": "markdown",
      "metadata": {
        "id": "U3mYFj38hrth"
      },
      "source": [
        "**Funtion**"
      ]
    },
    {
      "cell_type": "code",
      "metadata": {
        "colab": {
          "base_uri": "https://localhost:8080/"
        },
        "id": "uen4PpglhHDB",
        "outputId": "9296881d-4715-426f-afdd-d3fd9307b630"
      },
      "source": [
        "def sum(i1, i2):\n",
        "    result = 0\n",
        "    for i in range(i1, i2):\n",
        "        result += i\n",
        "    return result\n",
        "\n",
        "def main():\n",
        "    print(\"Sum from 2 to 15 is\", sum(2, 15)) \n",
        "    print(\"Sum from 25 to 35 is\", sum(25, 35))\n",
        "    print(\"Sum from 37 to 42 is\", sum(37, 42))\n",
        "\n",
        "main() # Call the main function"
      ],
      "execution_count": 23,
      "outputs": [
        {
          "output_type": "stream",
          "name": "stdout",
          "text": [
            "Sum from 2 to 15 is 104\n",
            "Sum from 25 to 35 is 295\n",
            "Sum from 37 to 42 is 195\n"
          ]
        }
      ]
    },
    {
      "cell_type": "code",
      "metadata": {
        "colab": {
          "base_uri": "https://localhost:8080/"
        },
        "id": "-rPE-MMbhy0r",
        "outputId": "a4c6e011-2712-4d3b-95f7-ee679dffa63e"
      },
      "source": [
        "def swap(a,b):\n",
        "  a,b = b,a\n",
        "  return (a,b)\n",
        "\n",
        "if __name__ == '__main__':\n",
        "    x = 41\n",
        "    y = 14\n",
        "    print('x = %d,y = %d' % (x,y))\n",
        "    x,y = swap(x,y)\n",
        "    print('x = %d,y = %d' % (x,y))"
      ],
      "execution_count": 24,
      "outputs": [
        {
          "output_type": "stream",
          "name": "stdout",
          "text": [
            "x = 41,y = 14\n",
            "x = 14,y = 41\n"
          ]
        }
      ]
    },
    {
      "cell_type": "code",
      "metadata": {
        "colab": {
          "base_uri": "https://localhost:8080/"
        },
        "id": "aKdZXwzrh2Bh",
        "outputId": "cbc0ddcb-9dca-4595-9598-758566a32d5f"
      },
      "source": [
        "def sort(number1, number2, number3):\n",
        "       if (number1 < number2) and (number1 < number3):\n",
        "         if number2 < number3:\n",
        "           return number1, number2,number3\n",
        "         else:\n",
        "          return number1, number3, number2 \n",
        "       if (number2 < number1) and (number2 < number3):\n",
        "         if number1 < number3:\n",
        "           return number2, number1,number3\n",
        "         else:\n",
        "           return number2, number3,number1\n",
        "       if (number3 < number1) and (number3 < number2):\n",
        "         if number1 < number2:\n",
        "           return number3, number1,number2    \n",
        "         else:\n",
        "           return number3, number2, number1\n",
        "\n",
        "num1, num2, num3 = sort(60, 40, 20)\n",
        "\n",
        "print(\"num1 is \", num1)\n",
        "print(\"num2 is\", num2)\n",
        "print(\"num3 is\", num3)"
      ],
      "execution_count": 26,
      "outputs": [
        {
          "output_type": "stream",
          "name": "stdout",
          "text": [
            "num1 is  20\n",
            "num2 is 40\n",
            "num3 is 60\n"
          ]
        }
      ]
    },
    {
      "cell_type": "markdown",
      "metadata": {
        "id": "j0uvOzbCh6_V"
      },
      "source": [
        "**Default Argument**"
      ]
    },
    {
      "cell_type": "code",
      "metadata": {
        "id": "qzFjRVVFh3V7"
      },
      "source": [
        "def printArea(width = 7, height = 8):\n",
        "    area = width * height\n",
        "    print(\"width:\", width, \"\\theight:\", height, \"\\tarea:\", area)"
      ],
      "execution_count": 34,
      "outputs": []
    },
    {
      "cell_type": "code",
      "metadata": {
        "colab": {
          "base_uri": "https://localhost:8080/"
        },
        "id": "4kV7zhC1iC1R",
        "outputId": "8a7d26a5-79c6-4b39-c62f-68e1c91349c4"
      },
      "source": [
        "printArea()"
      ],
      "execution_count": 35,
      "outputs": [
        {
          "output_type": "stream",
          "name": "stdout",
          "text": [
            "width: 7 \theight: 8 \tarea: 56\n"
          ]
        }
      ]
    },
    {
      "cell_type": "code",
      "metadata": {
        "colab": {
          "base_uri": "https://localhost:8080/"
        },
        "id": "lL74CN_1iFb9",
        "outputId": "b41ee9f5-711a-48a3-9b20-b35c3c09c552"
      },
      "source": [
        "printArea(width = 7, height = 8)"
      ],
      "execution_count": 45,
      "outputs": [
        {
          "output_type": "stream",
          "name": "stdout",
          "text": [
            "width: 7 \theight: 8 \tarea: 56\n"
          ]
        }
      ]
    },
    {
      "cell_type": "code",
      "metadata": {
        "colab": {
          "base_uri": "https://localhost:8080/"
        },
        "id": "wUUL0ctziH5D",
        "outputId": "8bf7c45a-df29-4b83-f3aa-de2011b0e128"
      },
      "source": [
        "printArea(width = 8, height = 7)"
      ],
      "execution_count": 44,
      "outputs": [
        {
          "output_type": "stream",
          "name": "stdout",
          "text": [
            "width: 8 \theight: 7 \tarea: 56\n"
          ]
        }
      ]
    },
    {
      "cell_type": "code",
      "metadata": {
        "colab": {
          "base_uri": "https://localhost:8080/"
        },
        "id": "LgH-IaL6iK0q",
        "outputId": "36bf3009-52d3-4d06-bae2-9f38d5ee1241"
      },
      "source": [
        "printArea(7,8)"
      ],
      "execution_count": 43,
      "outputs": [
        {
          "output_type": "stream",
          "name": "stdout",
          "text": [
            "width: 7 \theight: 8 \tarea: 56\n"
          ]
        }
      ]
    },
    {
      "cell_type": "code",
      "metadata": {
        "colab": {
          "base_uri": "https://localhost:8080/"
        },
        "id": "T_oN_FW9iNOh",
        "outputId": "e4c0d357-55b5-488e-faca-7b1bbd6474b4"
      },
      "source": [
        "printArea(8,7)"
      ],
      "execution_count": 42,
      "outputs": [
        {
          "output_type": "stream",
          "name": "stdout",
          "text": [
            "width: 8 \theight: 7 \tarea: 56\n"
          ]
        }
      ]
    },
    {
      "cell_type": "markdown",
      "metadata": {
        "id": "BiIsBnkSjdIk"
      },
      "source": [
        "**Lambda Function**"
      ]
    },
    {
      "cell_type": "code",
      "metadata": {
        "colab": {
          "base_uri": "https://localhost:8080/"
        },
        "id": "tMByPN80iSjM",
        "outputId": "090c6090-1d43-46da-e1e7-1dd1805d9534"
      },
      "source": [
        "f1 = lambda x, y, z: x+5*y+10*z\n",
        "print(f1(5,10,15))"
      ],
      "execution_count": 48,
      "outputs": [
        {
          "output_type": "stream",
          "name": "stdout",
          "text": [
            "205\n"
          ]
        }
      ]
    },
    {
      "cell_type": "code",
      "metadata": {
        "colab": {
          "base_uri": "https://localhost:8080/"
        },
        "id": "y8PBfEpYjmro",
        "outputId": "54b1b200-0072-4fbf-e757-4c41f65c2550"
      },
      "source": [
        "def myfunc(m):\n",
        "    return m*m\n",
        "\n",
        "my_list = [8, 12, 16, 20, 24]\n",
        "\n",
        "\n",
        "print(list(map(lambda x:myfunc(x), my_list)))"
      ],
      "execution_count": 49,
      "outputs": [
        {
          "output_type": "stream",
          "name": "stdout",
          "text": [
            "[64, 144, 256, 400, 576]\n"
          ]
        }
      ]
    }
  ]
}